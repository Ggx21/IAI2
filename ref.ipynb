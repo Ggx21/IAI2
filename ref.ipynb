{
 "cells": [
  {
   "attachments": {},
   "cell_type": "markdown",
   "metadata": {},
   "source": [
    "## 数据读取"
   ]
  },
  {
   "cell_type": "code",
   "execution_count": null,
   "metadata": {},
   "outputs": [],
   "source": [
    "root_path=\"testset\"\n",
    "train_path=\"D:\\Download\\Dataset\\Dataset\\\\train.txt\"\n",
    "import pandas as pd\n",
    "train_data = pd.read_csv(\"D:\\Download\\Dataset\\Dataset\\\\train.txt\",names=[\"label\",\"comment\"],sep=\"\\t\")\n",
    "print(train_data.head())"
   ]
  },
  {
   "cell_type": "code",
   "execution_count": null,
   "metadata": {},
   "outputs": [],
   "source": []
  }
 ],
 "metadata": {
  "language_info": {
   "name": "python"
  },
  "orig_nbformat": 4
 },
 "nbformat": 4,
 "nbformat_minor": 2
}
